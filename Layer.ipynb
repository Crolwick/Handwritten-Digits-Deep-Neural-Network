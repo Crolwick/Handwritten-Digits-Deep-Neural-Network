{
 "cells": [
  {
   "cell_type": "code",
   "execution_count": 1,
   "id": "40f0e201",
   "metadata": {},
   "outputs": [],
   "source": [
    "import numpy as np\n",
    "import torch"
   ]
  },
  {
   "cell_type": "code",
   "execution_count": 2,
   "id": "761451bd",
   "metadata": {},
   "outputs": [],
   "source": [
    "class Layer:\n",
    "    inputNodes = 0 # Number of Input Nodes\n",
    "    outputNodes = 0 # Number of Output Nodes\n",
    "    \n",
    "    weights = torch.empty(1) # Intialize Weights Tensor\n",
    "    biases = torch.empty(1) # Intialize Biases Tensor\n",
    "    \n",
    "    originalInputs = torch.empty(1)  # Intialize a Tensor to store the inputs\n",
    "    activationOutputs = torch.empty(1) # Initialize Tensor to store the activated outputs\n",
    "    \n",
    "    def __init__(self, numInputs, numOutputs):\n",
    "        self.inputNodes = numInputs\n",
    "        self.outputNodes = numOutputs\n",
    "        self.weights = torch.FloatTensor(numOutputs, numInputs).uniform_(-0.5, 0.5) # Randomly generate weights with size (out, in)\n",
    "        self.biases = torch.zeros((numOutputs, 1)) # Set all biases to zero with size (out, 1)\n",
    "        \n",
    "        # Calculates the value of each output node\n",
    "    def calculateLayers(self, inputs):\n",
    "        self.originalInputs = inputs # Store the original inputs\n",
    "        \n",
    "        output = torch.empty((self.outputNodes, 1)) # Intialize an Empty Temporary Tensor for Outputs\n",
    "        activation = torch.empty((self.outputNodes, 1)) # Initialize a Temporary Tensor for Activated Outputs\n",
    "        \n",
    "        for out in range(self.outputNodes):\n",
    "            output[out] = self.biases[out] # Sets all the output nodes to the bias value\n",
    "            for inp in range(self.inputNodes):\n",
    "                inputDotWeight = inputs[inp] * self.weights[out][inp] # Dot Product of inputs and weights\n",
    "                output[out] += inputDotWeight # Adds the dot product to the bias\n",
    "            \n",
    "            self.activationOutputs = self.activation(output) # Put through activation function\n",
    "                \n",
    "        return output, self.activationOutputs # Return both the original output and activated output (Real Output)\n",
    "    \n",
    "    def backwardProp(self, lr, outputError):\n",
    "        \n",
    "        inputError = np.dot(self.weights.T, outputError) # Calculates the error of the inputs\n",
    "        weightsError = np.dot(self.activationPrime(self.originalInputs), outputError.T) # Calculates the Error of the weights from that input\n",
    "        \n",
    "        self.weights -= lr * weightsError.T # Calculates new weights\n",
    "        self.biases -= lr * outputError # Calculates new biases\n",
    "        return inputError # Returns the new inputs optimized from the error\n",
    "    \n",
    "    def activation(self, weightedInput):\n",
    "        result = torch.sigmoid(weightedInput) # Sigmoid Activation Function\n",
    "        return result\n",
    "    \n",
    "    def activationPrime(self, inputs):\n",
    "        result = inputs * self.activation(inputs) # Derivative of Sigmoid Activation Function\n",
    "        return result"
   ]
  },
  {
   "cell_type": "code",
   "execution_count": null,
   "id": "d688bd63",
   "metadata": {},
   "outputs": [],
   "source": []
  },
  {
   "cell_type": "code",
   "execution_count": null,
   "id": "db933a7d",
   "metadata": {},
   "outputs": [],
   "source": []
  },
  {
   "cell_type": "code",
   "execution_count": null,
   "id": "57b3668e",
   "metadata": {},
   "outputs": [],
   "source": []
  },
  {
   "cell_type": "code",
   "execution_count": null,
   "id": "b5f2f8df",
   "metadata": {},
   "outputs": [],
   "source": []
  },
  {
   "cell_type": "code",
   "execution_count": null,
   "id": "cad1f06d",
   "metadata": {},
   "outputs": [],
   "source": []
  },
  {
   "cell_type": "code",
   "execution_count": null,
   "id": "b7afc83a",
   "metadata": {},
   "outputs": [],
   "source": []
  },
  {
   "cell_type": "code",
   "execution_count": null,
   "id": "e1be146e",
   "metadata": {},
   "outputs": [],
   "source": []
  },
  {
   "cell_type": "code",
   "execution_count": null,
   "id": "6cd3ae76",
   "metadata": {},
   "outputs": [],
   "source": []
  },
  {
   "cell_type": "code",
   "execution_count": null,
   "id": "c80c4ae9",
   "metadata": {},
   "outputs": [],
   "source": []
  },
  {
   "cell_type": "code",
   "execution_count": null,
   "id": "955995b5",
   "metadata": {},
   "outputs": [],
   "source": []
  },
  {
   "cell_type": "code",
   "execution_count": null,
   "id": "443da491",
   "metadata": {},
   "outputs": [],
   "source": []
  },
  {
   "cell_type": "code",
   "execution_count": null,
   "id": "78af7bfd",
   "metadata": {},
   "outputs": [],
   "source": []
  }
 ],
 "metadata": {
  "kernelspec": {
   "display_name": "Python 3 (ipykernel)",
   "language": "python",
   "name": "python3"
  },
  "language_info": {
   "codemirror_mode": {
    "name": "ipython",
    "version": 3
   },
   "file_extension": ".py",
   "mimetype": "text/x-python",
   "name": "python",
   "nbconvert_exporter": "python",
   "pygments_lexer": "ipython3",
   "version": "3.11.1"
  }
 },
 "nbformat": 4,
 "nbformat_minor": 5
}
