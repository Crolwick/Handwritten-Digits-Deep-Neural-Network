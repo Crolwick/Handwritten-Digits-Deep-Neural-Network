{
 "cells": [
  {
   "cell_type": "code",
   "execution_count": 3,
   "id": "4931520b",
   "metadata": {},
   "outputs": [],
   "source": [
    "import torch\n",
    "import torch.nn as nn\n",
    "import torchvision\n",
    "import torchvision.transforms as transforms\n",
    "import numpy as np\n",
    "import matplotlib.pyplot as plt\n",
    "import import_ipynb"
   ]
  },
  {
   "cell_type": "code",
   "execution_count": 4,
   "id": "91de74da",
   "metadata": {},
   "outputs": [],
   "source": [
    "from NeuralNetworkC import NeuralNetwork"
   ]
  },
  {
   "cell_type": "code",
   "execution_count": 5,
   "id": "5e4f8366",
   "metadata": {},
   "outputs": [],
   "source": [
    "batchSize = 128 # Batch Size = Amount of Images to load from MNIST"
   ]
  },
  {
   "cell_type": "code",
   "execution_count": 6,
   "id": "607d57dc",
   "metadata": {},
   "outputs": [],
   "source": [
    "# Import MNIST Dataset\n",
    "trainDataset = torchvision.datasets.MNIST(root='./data', train=True, transform=transforms.ToTensor(), download=True) # Downloads the training images and labels from MNIST database\n",
    "testDataset = torchvision.datasets.MNIST(root='./data', train=False, transform=transforms.ToTensor(), download=True) # Downloads the testing images and labels from MNIST database"
   ]
  },
  {
   "cell_type": "code",
   "execution_count": 7,
   "id": "587cb710",
   "metadata": {},
   "outputs": [],
   "source": [
    "# Data Loader\n",
    "# Loads [batchsize] Images and Labels from downloads\n",
    "trainLoader = torch.utils.data.DataLoader(dataset=trainDataset, batch_size=batchSize, shuffle=True)\n",
    "testLoader = torch.utils.data.DataLoader(dataset=testDataset, batch_size=batchSize, shuffle=False)"
   ]
  },
  {
   "cell_type": "code",
   "execution_count": 8,
   "id": "a13ce655",
   "metadata": {},
   "outputs": [],
   "source": [
    "# Seperates Labels and Images\n",
    "# Shape of Imgs: 100, 1, 28, 28 => Number of images, Number of Items, 28 pixel, 28 pixels\n",
    "examplesTrain = iter(trainLoader)\n",
    "trainImages, trainLabels = next(examplesTrain)\n",
    "\n",
    "examplesTest = iter(testLoader)\n",
    "testImages, testLabels = next(examplesTest)"
   ]
  },
  {
   "cell_type": "code",
   "execution_count": 9,
   "id": "2babf4ad",
   "metadata": {},
   "outputs": [],
   "source": [
    "# Reshape Images\n",
    "# Shape: 100, 1, 784 => Number of images, Number of Items, 784 Pixels combined together\n",
    "trainImgsReshape = trainImages.view((-1, 1, 28**2))\n",
    "\n",
    "testImgsReshape = testImages.view((-1, 1, 28**2))"
   ]
  },
  {
   "cell_type": "code",
   "execution_count": 11,
   "id": "89f9f1b0",
   "metadata": {},
   "outputs": [],
   "source": [
    "# Initialize Other Variables\n",
    "epochs = 20\n",
    "lr = 0.01 # Learning Rate\n",
    "samples = trainImgsReshape.size(dim=0) # Number of Items"
   ]
  },
  {
   "cell_type": "code",
   "execution_count": 12,
   "id": "c05d063a",
   "metadata": {},
   "outputs": [],
   "source": [
    "# Initialize Network and Layers\n",
    "layerSizes = np.array([784, 128, 128, 10]) # layerSizes = [Nmber of Inputs, Hidden Layer, ..., Hidden Layer, Number of Ouputs]\n",
    "net = NeuralNetwork(layerSizes)"
   ]
  },
  {
   "cell_type": "code",
   "execution_count": 13,
   "id": "5ddc4b81",
   "metadata": {},
   "outputs": [],
   "source": [
    "# Get Inputs Into Single Array and Reshape\n",
    "# Shape: 784, 1 => Number of Pixels Combined Together to a Vector, Number of Items\n",
    "inputs = torch.empty((trainImgsReshape.size(dim=0), trainImgsReshape.size(dim=2), 1))\n",
    "for i in range(samples):\n",
    "    inputs[i] = trainImgsReshape[i][0].reshape((-1, 1))"
   ]
  },
  {
   "cell_type": "code",
   "execution_count": 14,
   "id": "1013543a",
   "metadata": {},
   "outputs": [],
   "source": [
    "# Get Parameters Ready\n",
    "output = inputs"
   ]
  },
  {
   "cell_type": "code",
   "execution_count": 15,
   "id": "527c311c",
   "metadata": {},
   "outputs": [
    {
     "name": "stderr",
     "output_type": "stream",
     "text": [
      "<string>:57: UserWarning: The use of `x.T` on tensors of dimension other than 2 to reverse their shape is deprecated and it will throw an error in a future release. Consider `x.mT` to transpose batches of matrices or `x.permute(*torch.arange(x.ndim - 1, -1, -1))` to reverse the dimensions of a tensor. (Triggered internally at ..\\aten\\src\\ATen\\native\\TensorShape.cpp:3575.)\n"
     ]
    },
    {
     "name": "stdout",
     "output_type": "stream",
     "text": [
      "Epoch [1 / 20], Step [50/128], Loss: 0.1040, Error: 7.5301\n",
      "Should Be: 5\n",
      "Result Was: 7\n",
      "Epoch [1 / 20], Step [100/128], Loss: 0.0781, Error: 12.0345\n",
      "Should Be: 4\n",
      "Result Was: 4\n",
      "Accuracy of Epoch: 19.53125 %\n",
      "NumCorrect: 25, NumIncorrect: 103\n",
      "\n",
      "Epoch [2 / 20], Step [50/128], Loss: 0.0970, Error: 4.1733\n",
      "Should Be: 5\n",
      "Result Was: 7\n",
      "Epoch [2 / 20], Step [100/128], Loss: 0.0814, Error: 8.1697\n",
      "Should Be: 4\n",
      "Result Was: 7\n",
      "Accuracy of Epoch: 36.71875 %\n",
      "NumCorrect: 47, NumIncorrect: 81\n",
      "\n",
      "Epoch [3 / 20], Step [50/128], Loss: 0.0952, Error: 3.7632\n",
      "Should Be: 5\n",
      "Result Was: 0\n",
      "Epoch [3 / 20], Step [100/128], Loss: 0.0777, Error: 7.3869\n",
      "Should Be: 4\n",
      "Result Was: 7\n",
      "Accuracy of Epoch: 54.6875 %\n",
      "NumCorrect: 70, NumIncorrect: 58\n",
      "\n",
      "Epoch [4 / 20], Step [50/128], Loss: 0.0924, Error: 3.4041\n",
      "Should Be: 5\n",
      "Result Was: 0\n",
      "Epoch [4 / 20], Step [100/128], Loss: 0.0727, Error: 6.7144\n",
      "Should Be: 4\n",
      "Result Was: 4\n",
      "Accuracy of Epoch: 65.625 %\n",
      "NumCorrect: 84, NumIncorrect: 44\n",
      "\n",
      "Epoch [5 / 20], Step [50/128], Loss: 0.0891, Error: 3.0981\n",
      "Should Be: 5\n",
      "Result Was: 3\n",
      "Epoch [5 / 20], Step [100/128], Loss: 0.0679, Error: 6.1499\n",
      "Should Be: 4\n",
      "Result Was: 4\n",
      "Accuracy of Epoch: 71.09375 %\n",
      "NumCorrect: 91, NumIncorrect: 37\n",
      "\n",
      "Epoch [6 / 20], Step [50/128], Loss: 0.0855, Error: 2.8400\n",
      "Should Be: 5\n",
      "Result Was: 3\n",
      "Epoch [6 / 20], Step [100/128], Loss: 0.0635, Error: 5.6736\n",
      "Should Be: 4\n",
      "Result Was: 4\n",
      "Accuracy of Epoch: 72.65625 %\n",
      "NumCorrect: 93, NumIncorrect: 35\n",
      "\n",
      "Epoch [7 / 20], Step [50/128], Loss: 0.0815, Error: 2.6220\n",
      "Should Be: 5\n",
      "Result Was: 3\n",
      "Epoch [7 / 20], Step [100/128], Loss: 0.0596, Error: 5.2652\n",
      "Should Be: 4\n",
      "Result Was: 4\n",
      "Accuracy of Epoch: 74.21875 %\n",
      "NumCorrect: 95, NumIncorrect: 33\n",
      "\n",
      "Epoch [8 / 20], Step [50/128], Loss: 0.0773, Error: 2.4364\n",
      "Should Be: 5\n",
      "Result Was: 3\n",
      "Epoch [8 / 20], Step [100/128], Loss: 0.0561, Error: 4.9102\n",
      "Should Be: 4\n",
      "Result Was: 4\n",
      "Accuracy of Epoch: 80.46875 %\n",
      "NumCorrect: 103, NumIncorrect: 25\n",
      "\n",
      "Epoch [9 / 20], Step [50/128], Loss: 0.0730, Error: 2.2768\n",
      "Should Be: 5\n",
      "Result Was: 5\n",
      "Epoch [9 / 20], Step [100/128], Loss: 0.0530, Error: 4.5996\n",
      "Should Be: 4\n",
      "Result Was: 4\n",
      "Accuracy of Epoch: 82.03125 %\n",
      "NumCorrect: 105, NumIncorrect: 23\n",
      "\n",
      "Epoch [10 / 20], Step [50/128], Loss: 0.0688, Error: 2.1388\n",
      "Should Be: 5\n",
      "Result Was: 5\n",
      "Epoch [10 / 20], Step [100/128], Loss: 0.0501, Error: 4.3265\n",
      "Should Be: 4\n",
      "Result Was: 4\n",
      "Accuracy of Epoch: 84.375 %\n",
      "NumCorrect: 108, NumIncorrect: 20\n",
      "\n",
      "Epoch [11 / 20], Step [50/128], Loss: 0.0647, Error: 2.0184\n",
      "Should Be: 5\n",
      "Result Was: 5\n",
      "Epoch [11 / 20], Step [100/128], Loss: 0.0475, Error: 4.0845\n",
      "Should Be: 4\n",
      "Result Was: 4\n",
      "Accuracy of Epoch: 85.9375 %\n",
      "NumCorrect: 110, NumIncorrect: 18\n",
      "\n",
      "Epoch [12 / 20], Step [50/128], Loss: 0.0607, Error: 1.9122\n",
      "Should Be: 5\n",
      "Result Was: 5\n",
      "Epoch [12 / 20], Step [100/128], Loss: 0.0450, Error: 3.8679\n",
      "Should Be: 4\n",
      "Result Was: 4\n",
      "Accuracy of Epoch: 86.71875 %\n",
      "NumCorrect: 111, NumIncorrect: 17\n",
      "\n",
      "Epoch [13 / 20], Step [50/128], Loss: 0.0570, Error: 1.8173\n",
      "Should Be: 5\n",
      "Result Was: 5\n",
      "Epoch [13 / 20], Step [100/128], Loss: 0.0428, Error: 3.6723\n",
      "Should Be: 4\n",
      "Result Was: 4\n",
      "Accuracy of Epoch: 88.28125 %\n",
      "NumCorrect: 113, NumIncorrect: 15\n",
      "\n",
      "Epoch [14 / 20], Step [50/128], Loss: 0.0536, Error: 1.7314\n",
      "Should Be: 5\n",
      "Result Was: 5\n",
      "Epoch [14 / 20], Step [100/128], Loss: 0.0406, Error: 3.4940\n",
      "Should Be: 4\n",
      "Result Was: 4\n",
      "Accuracy of Epoch: 89.0625 %\n",
      "NumCorrect: 114, NumIncorrect: 14\n",
      "\n",
      "Epoch [15 / 20], Step [50/128], Loss: 0.0504, Error: 1.6527\n",
      "Should Be: 5\n",
      "Result Was: 5\n",
      "Epoch [15 / 20], Step [100/128], Loss: 0.0385, Error: 3.3304\n",
      "Should Be: 4\n",
      "Result Was: 4\n",
      "Accuracy of Epoch: 89.84375 %\n",
      "NumCorrect: 115, NumIncorrect: 13\n",
      "\n",
      "Epoch [16 / 20], Step [50/128], Loss: 0.0475, Error: 1.5801\n",
      "Should Be: 5\n",
      "Result Was: 5\n",
      "Epoch [16 / 20], Step [100/128], Loss: 0.0366, Error: 3.1793\n",
      "Should Be: 4\n",
      "Result Was: 4\n",
      "Accuracy of Epoch: 90.625 %\n",
      "NumCorrect: 116, NumIncorrect: 12\n",
      "\n",
      "Epoch [17 / 20], Step [50/128], Loss: 0.0449, Error: 1.5124\n",
      "Should Be: 5\n",
      "Result Was: 5\n",
      "Epoch [17 / 20], Step [100/128], Loss: 0.0347, Error: 3.0391\n",
      "Should Be: 4\n",
      "Result Was: 4\n",
      "Accuracy of Epoch: 91.40625 %\n",
      "NumCorrect: 117, NumIncorrect: 11\n",
      "\n",
      "Epoch [18 / 20], Step [50/128], Loss: 0.0425, Error: 1.4491\n",
      "Should Be: 5\n",
      "Result Was: 5\n",
      "Epoch [18 / 20], Step [100/128], Loss: 0.0330, Error: 2.9086\n",
      "Should Be: 4\n",
      "Result Was: 4\n",
      "Accuracy of Epoch: 91.40625 %\n",
      "NumCorrect: 117, NumIncorrect: 11\n",
      "\n",
      "Epoch [19 / 20], Step [50/128], Loss: 0.0403, Error: 1.3895\n",
      "Should Be: 5\n",
      "Result Was: 5\n",
      "Epoch [19 / 20], Step [100/128], Loss: 0.0313, Error: 2.7865\n",
      "Should Be: 4\n",
      "Result Was: 4\n",
      "Accuracy of Epoch: 92.1875 %\n",
      "NumCorrect: 118, NumIncorrect: 10\n",
      "\n",
      "Epoch [20 / 20], Step [50/128], Loss: 0.0384, Error: 1.3334\n",
      "Should Be: 5\n",
      "Result Was: 5\n",
      "Epoch [20 / 20], Step [100/128], Loss: 0.0298, Error: 2.6720\n",
      "Should Be: 4\n",
      "Result Was: 4\n",
      "Accuracy of Epoch: 92.1875 %\n",
      "NumCorrect: 118, NumIncorrect: 10\n",
      "\n"
     ]
    }
   ],
   "source": [
    "# Train Network\n",
    "net.train(inputs, trainLabels, samples, epochs, lr)"
   ]
  },
  {
   "cell_type": "code",
   "execution_count": 21,
   "id": "2a1f2010",
   "metadata": {},
   "outputs": [],
   "source": [
    "# Tests the neural network on an index of the user's choice\n",
    "def userTest():\n",
    "    userInput = int(input('Enter a Number: '))\n",
    "    \n",
    "    testOutput = inputs[userInput-1]\n",
    "        \n",
    "    testOutput = net.forwardProp(testOutput)\n",
    "    \n",
    "    print('Test Output: ', testOutput)\n",
    "    print(f'Label: {trainLabels[userInput]}')\n",
    "    print(f'Result: {testOutput.argmax()}')\n",
    "    displayImg = trainImages[userInput][0]\n",
    "    plt.imshow(displayImg, cmap='gray')\n",
    "    plt.show()"
   ]
  },
  {
   "cell_type": "code",
   "execution_count": null,
   "id": "67bf5ac6",
   "metadata": {},
   "outputs": [],
   "source": []
  },
  {
   "cell_type": "code",
   "execution_count": 17,
   "id": "9ff10a3b",
   "metadata": {},
   "outputs": [],
   "source": [
    "# Tests the neural network on a set of images\n",
    "def fullTest(inputs):\n",
    "    numberCorrect = 0\n",
    "    numberIncorrect = 0\n",
    "    answers = torch.empty((inputs.size(dim=0), 1))\n",
    "    \n",
    "    for i in range(inputs.size(dim=0)):\n",
    "        testOutput = inputs[i]\n",
    "    \n",
    "        testOutput = net.forwardProp(testOutput)\n",
    "        \n",
    "        answers[i] = testOutput.argmax()\n",
    "        \n",
    "        if (answers[i] == testLabels[i]):\n",
    "            numberCorrect += 1\n",
    "        else:\n",
    "            numberIncorrect += 1\n",
    "    \n",
    "    stop = bool(False)\n",
    "    \n",
    "    while (not stop):\n",
    "        userInput = input('Would you like to see results? (Enter y/yes or n/no)')\n",
    "        \n",
    "        if (userInput == 'n' or userInput == 'no'):\n",
    "            stop = bool(True)\n",
    "            continue\n",
    "        \n",
    "        userInput = int(input('Please Enter a number position between 1-100: '))\n",
    "    \n",
    "        print(f'Label: {testLabels[userInput-1]}')\n",
    "        print(f'Result: {answers[userInput-1].item()}')\n",
    "        displayImg = testImages[userInput-1][0]\n",
    "        plt.imshow(displayImg, cmap='gray')\n",
    "        plt.show()\n",
    "    \n",
    "    print(f'NumCorrect: {numberCorrect}')\n",
    "    print(f'NumIncorrect: {numberIncorrect}')\n",
    "    print('This is the end of the program')"
   ]
  },
  {
   "cell_type": "code",
   "execution_count": 25,
   "id": "c99b7063",
   "metadata": {},
   "outputs": [
    {
     "name": "stdout",
     "output_type": "stream",
     "text": [
      "Enter a Number: 54\n",
      "Test Output:  tensor([[0.1061],\n",
      "        [0.0952],\n",
      "        [0.0621],\n",
      "        [0.0426],\n",
      "        [0.1268],\n",
      "        [0.4890],\n",
      "        [0.1561],\n",
      "        [0.0799],\n",
      "        [0.0356],\n",
      "        [0.0269]])\n",
      "Label: 3\n",
      "Result: 5\n"
     ]
    },
    {
     "data": {
      "image/png": "[encoded data removed]",
      "text/plain": [
       "<Figure size 640x480 with 1 Axes>"
      ]
     },
     "metadata": {},
     "output_type": "display_data"
    }
   ],
   "source": [
    "userTest()"
   ]
  },
  {
   "cell_type": "code",
   "execution_count": 18,
   "id": "75af37bb",
   "metadata": {},
   "outputs": [],
   "source": [
    "# Test Image Inputs\n",
    "samples = testImgsReshape.size(dim=0)\n",
    "inputs = torch.empty((testImgsReshape.size(dim=0), testImgsReshape.size(dim=2), 1))\n",
    "for i in range(samples):\n",
    "    inputs[i] = testImgsReshape[i][0].reshape((-1, 1))"
   ]
  },
  {
   "cell_type": "code",
   "execution_count": 19,
   "id": "314db7ac",
   "metadata": {},
   "outputs": [
    {
     "name": "stdout",
     "output_type": "stream",
     "text": [
      "Would you like to see results? (Enter y/yes or n/no)y\n",
      "Please Enter a number position between 1-100: 4\n",
      "Label: 0\n",
      "Result: 0.0\n"
     ]
    },
    {
     "data": {
      "image/png": "[encoded data removed]",
      "text/plain": [
       "<Figure size 640x480 with 1 Axes>"
      ]
     },
     "metadata": {},
     "output_type": "display_data"
    },
    {
     "name": "stdout",
     "output_type": "stream",
     "text": [
      "Would you like to see results? (Enter y/yes or n/no)n\n",
      "NumCorrect: 62\n",
      "NumIncorrect: 38\n",
      "This is the end of the program\n"
     ]
    }
   ],
   "source": [
    "fullTest(inputs)"
   ]
  },
  {
   "cell_type": "code",
   "execution_count": 51,
   "id": "a2238d19",
   "metadata": {},
   "outputs": [
    {
     "name": "stdout",
     "output_type": "stream",
     "text": [
      "false\n",
      "false\n",
      "false\n",
      "true\n"
     ]
    }
   ],
   "source": []
  },
  {
   "cell_type": "code",
   "execution_count": null,
   "id": "4eed3b5f",
   "metadata": {},
   "outputs": [],
   "source": []
  },
  {
   "cell_type": "code",
   "execution_count": null,
   "id": "17203a21",
   "metadata": {},
   "outputs": [],
   "source": []
  },
  {
   "cell_type": "code",
   "execution_count": null,
   "id": "6f165585",
   "metadata": {},
   "outputs": [],
   "source": []
  }
 ],
 "metadata": {
  "kernelspec": {
   "display_name": "Python 3 (ipykernel)",
   "language": "python",
   "name": "python3"
  },
  "language_info": {
   "codemirror_mode": {
    "name": "ipython",
    "version": 3
   },
   "file_extension": ".py",
   "mimetype": "text/x-python",
   "name": "python",
   "nbconvert_exporter": "python",
   "pygments_lexer": "ipython3",
   "version": "3.11.1"
  }
 },
 "nbformat": 4,
 "nbformat_minor": 5
}
