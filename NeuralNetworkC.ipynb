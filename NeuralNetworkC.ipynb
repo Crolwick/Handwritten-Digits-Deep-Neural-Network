{
 "cells": [
  {
   "cell_type": "code",
   "execution_count": 1,
   "id": "d82b3185",
   "metadata": {},
   "outputs": [],
   "source": [
    "import numpy as np\n",
    "import torch\n",
    "import matplotlib.pyplot as plt\n",
    "import import_ipynb"
   ]
  },
  {
   "cell_type": "code",
   "execution_count": 2,
   "id": "12d3c87d",
   "metadata": {},
   "outputs": [
    {
     "name": "stdout",
     "output_type": "stream",
     "text": [
      "importing Jupyter notebook from Layer.ipynb\n"
     ]
    }
   ],
   "source": [
    "from Layer import Layer"
   ]
  },
  {
   "cell_type": "code",
   "execution_count": 3,
   "id": "031c80f5",
   "metadata": {},
   "outputs": [],
   "source": [
    "class NeuralNetwork:\n",
    "    layers = np.empty(0) # Make an empty list of layers\n",
    "    outputs = torch.empty((1)) # Initialize an empty tensor to store outputs\n",
    "    \n",
    "    # Variables to count how mnay were right and wrong (for display purposes)\n",
    "    numCorrect = 0\n",
    "    numIncorrect = 0\n",
    "    \n",
    "    def __init__(self, layerSizes):\n",
    "        # Makes as many layers as needed\n",
    "        for layerIndex in range(0, layerSizes.size-1):\n",
    "            layerAppend = Layer(layerSizes[layerIndex], layerSizes[layerIndex+1])\n",
    "            self.layers = np.append(self.layers, layerAppend)\n",
    "    \n",
    "    def forwardProp(self, inputs):\n",
    "        activation = torch.empty((1)) # Intialize a temporary tensor to store the activated output\n",
    "        for layer in self.layers:\n",
    "            activation, inputs = layer.calculateLayers(inputs) # Calculates the outputs for every layer until final output is calculated\n",
    "            \n",
    "        self.outputs = inputs # Store the final output in tensor\n",
    "        return self.outputs\n",
    "    \n",
    "    def cost(self, predicted, expected):\n",
    "        meanSquaredError = (expected - predicted)**2 # Mean Squared Error to find the error between actual and calculated\n",
    "        totalCost = torch.sum(meanSquaredError) / expected.size(dim=0) # Find the average between all the values\n",
    "        \n",
    "        self.checkCorrectTensor(expected) # Checks if the value matches the real value\n",
    "        \n",
    "        return meanSquaredError, totalCost # Returns [MSQ: Tensor], [MSQ: float]\n",
    "    \n",
    "    def checkCorrectTensor(self, expected):\n",
    "        # Gets the idnex of the highest value in tensor and compares if it matches\n",
    "        # If it matches: Increment Correct, otherwise Increment Incorrect\n",
    "        if self.outputs.argmax() == expected.argmax():\n",
    "            self.numCorrect += 1\n",
    "        else:\n",
    "            self.numIncorrect += 1\n",
    "            \n",
    "    def checkCorrectLabel(self, label):\n",
    "        # Same as above, but for general use\n",
    "        if self.outputs.argmax() == label:\n",
    "            self.numCorrect += 1\n",
    "        else:\n",
    "            self.numIncorrect += 1\n",
    "            \n",
    "    def backProp(self, learnRate, error):\n",
    "        # Iterates over every layer until every weight and biases have been optimized\n",
    "        for layer in reversed(self.layers):\n",
    "            error = layer.backwardProp(learnRate, error)\n",
    "    \n",
    "    def train(self, inputs, label, samples, epochs, learnRate):\n",
    "        for epoch in range(epochs):\n",
    "            err = 0 # Final error of epoch\n",
    "            for i in range(samples):\n",
    "                output = inputs[i] # Gets One Input from list of inputs\n",
    "                onehot = torch.nn.functional.one_hot(label[i], num_classes=10) # Calculates the onehot tensor for the label\n",
    "                onehot = onehot.T.reshape((-1, 1)) # Reshapes onehot from (1, 10) => (10, 1)\n",
    "                \n",
    "                output = self.forwardProp(output) # Calculates the predicted output\n",
    "                \n",
    "                lossTensor, loss = self.cost(output, onehot) # Calculates the Cost or Error between real and predicted values\n",
    "                err += loss # Adds to the error of the epoch\n",
    "                \n",
    "                error = 2*(output-onehot)/onehot.size(dim=0) # Find the error of the cost function\n",
    "                self.backProp(learnRate, error) # Optimizes weights and biases\n",
    "                \n",
    "                # Every 50 Steps in an epoch, print the following details:\n",
    "                # Epoch, Step, Loss of Step, Error of Epoch, Real Result Label, Expected Result Label\n",
    "                if (i+1) % 50 == 0:\n",
    "                    print(f'Epoch [{epoch+1} / {epochs}], Step [{i+1}/{inputs.size(dim=0)}], Loss: {loss.item():.4f}, Error: {err:.4f}')\n",
    "                    print(f'Should Be: {label[i]}')\n",
    "                    print(f'Result Was: {output.argmax()}')\n",
    "            \n",
    "            # At the end of every epoch, print the following details:\n",
    "            # Accuracy of epoch, Number Correct, Number Incorrect\n",
    "            acc = 100 * self.numCorrect / inputs.size(dim=0)\n",
    "            print(f'Accuracy of Epoch: {acc} %')\n",
    "            print(f'NumCorrect: {self.numCorrect}, NumIncorrect: {self.numIncorrect}')\n",
    "            print('')\n",
    "            self.numCorrect = 0\n",
    "            self.numIncorrect = 0"
   ]
  },
  {
   "cell_type": "code",
   "execution_count": null,
   "id": "3341288d",
   "metadata": {},
   "outputs": [],
   "source": []
  },
  {
   "cell_type": "code",
   "execution_count": null,
   "id": "c7e84729",
   "metadata": {},
   "outputs": [],
   "source": []
  },
  {
   "cell_type": "code",
   "execution_count": null,
   "id": "133ce61d",
   "metadata": {},
   "outputs": [],
   "source": []
  },
  {
   "cell_type": "code",
   "execution_count": null,
   "id": "3aaa957e",
   "metadata": {},
   "outputs": [],
   "source": []
  },
  {
   "cell_type": "code",
   "execution_count": null,
   "id": "d106781b",
   "metadata": {},
   "outputs": [],
   "source": []
  },
  {
   "cell_type": "code",
   "execution_count": null,
   "id": "aaf96654",
   "metadata": {},
   "outputs": [],
   "source": []
  },
  {
   "cell_type": "code",
   "execution_count": null,
   "id": "435d21ce",
   "metadata": {},
   "outputs": [],
   "source": []
  },
  {
   "cell_type": "code",
   "execution_count": null,
   "id": "c64dd543",
   "metadata": {},
   "outputs": [],
   "source": []
  },
  {
   "cell_type": "code",
   "execution_count": null,
   "id": "977dd3a7",
   "metadata": {},
   "outputs": [],
   "source": []
  },
  {
   "cell_type": "code",
   "execution_count": null,
   "id": "dd6e8b3d",
   "metadata": {},
   "outputs": [],
   "source": []
  },
  {
   "cell_type": "code",
   "execution_count": null,
   "id": "eba77537",
   "metadata": {
    "scrolled": true
   },
   "outputs": [],
   "source": []
  },
  {
   "cell_type": "code",
   "execution_count": null,
   "id": "916a6c8b",
   "metadata": {},
   "outputs": [],
   "source": []
  },
  {
   "cell_type": "code",
   "execution_count": null,
   "id": "29d5f970",
   "metadata": {},
   "outputs": [],
   "source": []
  },
  {
   "cell_type": "code",
   "execution_count": null,
   "id": "8879e38e",
   "metadata": {},
   "outputs": [],
   "source": []
  },
  {
   "cell_type": "code",
   "execution_count": null,
   "id": "84cab382",
   "metadata": {},
   "outputs": [],
   "source": []
  },
  {
   "cell_type": "raw",
   "id": "58ee9b79",
   "metadata": {},
   "source": []
  },
  {
   "cell_type": "code",
   "execution_count": null,
   "id": "df3f40c3",
   "metadata": {},
   "outputs": [],
   "source": []
  },
  {
   "cell_type": "code",
   "execution_count": null,
   "id": "a181447c",
   "metadata": {},
   "outputs": [],
   "source": []
  },
  {
   "cell_type": "code",
   "execution_count": null,
   "id": "521b5846",
   "metadata": {},
   "outputs": [],
   "source": []
  },
  {
   "cell_type": "code",
   "execution_count": null,
   "id": "1f4e4bad",
   "metadata": {},
   "outputs": [],
   "source": []
  },
  {
   "cell_type": "code",
   "execution_count": null,
   "id": "af9b3d1b",
   "metadata": {},
   "outputs": [],
   "source": []
  }
 ],
 "metadata": {
  "kernelspec": {
   "display_name": "Python 3 (ipykernel)",
   "language": "python",
   "name": "python3"
  },
  "language_info": {
   "codemirror_mode": {
    "name": "ipython",
    "version": 3
   },
   "file_extension": ".py",
   "mimetype": "text/x-python",
   "name": "python",
   "nbconvert_exporter": "python",
   "pygments_lexer": "ipython3",
   "version": "3.11.1"
  }
 },
 "nbformat": 4,
 "nbformat_minor": 5
}
